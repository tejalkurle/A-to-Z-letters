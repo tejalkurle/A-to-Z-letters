{
 "cells": [
  {
   "cell_type": "code",
   "execution_count": 128,
   "id": "4fa3137b",
   "metadata": {},
   "outputs": [
    {
     "name": "stdout",
     "output_type": "stream",
     "text": [
      "  * * *   \n",
      "*       * \n",
      "* * * * * \n",
      "*       * \n",
      "*       * \n"
     ]
    }
   ],
   "source": [
    "for r in range (5):\n",
    "    for c in range(5):\n",
    "        if c==0 and r!=0 or c==4 and r!=0  or r==2 or c==1 and r==0 or c==2 and r==0  or c==3 and r==0:\n",
    "            print(\"*\",end=' ')\n",
    "        else:\n",
    "            print(\" \",end=' ')\n",
    "    print('')"
   ]
  },
  {
   "cell_type": "code",
   "execution_count": 129,
   "id": "f847637c",
   "metadata": {},
   "outputs": [
    {
     "name": "stdout",
     "output_type": "stream",
     "text": [
      "* * * *   \n",
      "*       * \n",
      "* * * *   \n",
      "*       * \n",
      "* * * *   \n"
     ]
    }
   ],
   "source": [
    "for r in range (5):\n",
    "    for c in range(5):\n",
    "        if r==0  and c!=4 or r==2 and c!=4 or r==4 and c!=4  or c==0 or c==4 and r==1 or c==4 and r==3:\n",
    "            print(\"*\",end=' ')\n",
    "        else:\n",
    "            print(\" \",end=' ')\n",
    "    print('')"
   ]
  },
  {
   "cell_type": "code",
   "execution_count": 130,
   "id": "9efaf30e",
   "metadata": {},
   "outputs": [
    {
     "name": "stdout",
     "output_type": "stream",
     "text": [
      "  * * * * \n",
      "*         \n",
      "*         \n",
      "*         \n",
      "  * * * * \n"
     ]
    }
   ],
   "source": [
    "for r in range(5):\n",
    "    for c in range(5):\n",
    "        if c==0 and r!=0 and r!=4 or r==0 and c!=0 or r==4 and c!=0:\n",
    "            print(\"*\",end=' ')\n",
    "        else:\n",
    "            print(\" \",end=' ')\n",
    "    print('')"
   ]
  },
  {
   "cell_type": "code",
   "execution_count": 131,
   "id": "c231fb4c",
   "metadata": {},
   "outputs": [
    {
     "name": "stdout",
     "output_type": "stream",
     "text": [
      "* * * *   \n",
      "*       * \n",
      "*       * \n",
      "*       * \n",
      "* * * *   \n"
     ]
    }
   ],
   "source": [
    "for r in range(5):\n",
    "    for c in range(5):\n",
    "        if c==0  or c==4 and r!=0  and r!=4 or r==0 and c!=4 or r==4 and c!=4:\n",
    "            print(\"*\",end=' ')\n",
    "        else:\n",
    "            print(\" \",end=' ')\n",
    "    print('')"
   ]
  },
  {
   "cell_type": "code",
   "execution_count": 132,
   "id": "7cb38aa2",
   "metadata": {},
   "outputs": [
    {
     "name": "stdout",
     "output_type": "stream",
     "text": [
      "* * * * * \n",
      "*         \n",
      "* * * * * \n",
      "*         \n",
      "* * * * * \n"
     ]
    }
   ],
   "source": [
    "for r in range(5):\n",
    "    for c in range(5):\n",
    "        if r==0 or c==0 and c!=4 or r==4 or r==2:\n",
    "            print(\"*\",end=' ')\n",
    "        else:\n",
    "            print(\" \",end=' ')\n",
    "    print('')"
   ]
  },
  {
   "cell_type": "code",
   "execution_count": 133,
   "id": "b77d8b68",
   "metadata": {},
   "outputs": [
    {
     "name": "stdout",
     "output_type": "stream",
     "text": [
      "* * * * * \n",
      "*         \n",
      "* * * * * \n",
      "*         \n",
      "*         \n"
     ]
    }
   ],
   "source": [
    "for r in range(5):\n",
    "    for c in range(5):\n",
    "        if r==0 or c==0 and c!=4 or r==2 :\n",
    "            print(\"*\",end=' ')\n",
    "        else:\n",
    "            print(\" \",end=' ')\n",
    "    print('')"
   ]
  },
  {
   "cell_type": "code",
   "execution_count": 134,
   "id": "2c3dc482",
   "metadata": {},
   "outputs": [
    {
     "name": "stdout",
     "output_type": "stream",
     "text": [
      "  * * * *   \n",
      "*         * \n",
      "*           \n",
      "*     * * * \n",
      "*     *   * \n",
      "  * * *   * \n"
     ]
    }
   ],
   "source": [
    "for r in range (6):\n",
    "    for c in range(6):\n",
    "        if c==0 and r!=0 and r!=5 or r==0 and c!=0 and c!=5 or r==5 and c!=0 and c!=4 and c!=5 or c==3 and r!=1 and r!=2 or r==3 and c!=1 and c!=2 or c==5 and r!=0 and r!=2:\n",
    "            print(\"*\",end=' ')\n",
    "        else:\n",
    "            print(\" \",end=' ')\n",
    "    print('')"
   ]
  },
  {
   "cell_type": "code",
   "execution_count": 135,
   "id": "03292642",
   "metadata": {},
   "outputs": [
    {
     "name": "stdout",
     "output_type": "stream",
     "text": [
      "*       *  \n",
      "*       *  \n",
      "* * * * *  \n",
      "*       *  \n",
      "*       *  \n"
     ]
    }
   ],
   "source": [
    "for r in range(5):\n",
    "    for c in range(5):\n",
    "        if c==0 or c==4 or r==2:\n",
    "            print(\"*\",end=' ')\n",
    "        else:\n",
    "            print(\" \",end=' ')\n",
    "    print(' ')"
   ]
  },
  {
   "cell_type": "code",
   "execution_count": 136,
   "id": "3d297c6a",
   "metadata": {},
   "outputs": [
    {
     "name": "stdout",
     "output_type": "stream",
     "text": [
      "* * * * *  \n",
      "    *      \n",
      "    *      \n",
      "    *      \n",
      "* * * * *  \n"
     ]
    }
   ],
   "source": [
    "for r in range(5):\n",
    "    for c in range(5):\n",
    "        if r==0 or c==2 or r==4:\n",
    "            print(\"*\",end=' ')\n",
    "        else:\n",
    "            print(\" \",end=' ')\n",
    "    print(' ')"
   ]
  },
  {
   "cell_type": "code",
   "execution_count": 137,
   "id": "e2e003ad",
   "metadata": {},
   "outputs": [
    {
     "name": "stdout",
     "output_type": "stream",
     "text": [
      "* * * * *  \n",
      "    *      \n",
      "    *      \n",
      "    *      \n",
      "* * *      \n"
     ]
    }
   ],
   "source": [
    "for r in range(5):\n",
    "    for c in range(5):\n",
    "        if r==0 or c==2  or r==4 and c!=4 and c!=3 :\n",
    "            print(\"*\",end=' ')\n",
    "        else:\n",
    "            print(\" \",end=' ')\n",
    "    print(' ')"
   ]
  },
  {
   "cell_type": "code",
   "execution_count": 138,
   "id": "d89f948b",
   "metadata": {},
   "outputs": [
    {
     "name": "stdout",
     "output_type": "stream",
     "text": [
      "*     *    \n",
      "*   *      \n",
      "* *        \n",
      "*   *      \n",
      "*     *    \n"
     ]
    }
   ],
   "source": [
    "for r in range(5):\n",
    "    for c in range(5):\n",
    "        if  c==0 or r-1==c or c==2 and r!=0 and r!=2 and r!=4 or c==3 and r!=1 and r!=2 and r!=3:\n",
    "            print(\"*\",end=' ')\n",
    "        else:\n",
    "            print(\" \",end=' ')\n",
    "    print(' ')"
   ]
  },
  {
   "cell_type": "code",
   "execution_count": 139,
   "id": "7ddbf1ab",
   "metadata": {},
   "outputs": [
    {
     "name": "stdout",
     "output_type": "stream",
     "text": [
      "*          \n",
      "*          \n",
      "*          \n",
      "*          \n",
      "* * * * *  \n"
     ]
    }
   ],
   "source": [
    "for r in range(5):\n",
    "    for c in range(5):\n",
    "        if c==0 or r==4 :\n",
    "            print(\"*\",end=' ')\n",
    "        else:\n",
    "            print(\" \",end=' ')\n",
    "    print(' ')"
   ]
  },
  {
   "cell_type": "code",
   "execution_count": 140,
   "id": "0dde5118",
   "metadata": {},
   "outputs": [
    {
     "name": "stdout",
     "output_type": "stream",
     "text": [
      "*       *  \n",
      "* *   * *  \n",
      "*   *   *  \n",
      "*       *  \n",
      "*       *  \n"
     ]
    }
   ],
   "source": [
    "for r in range(5):\n",
    "    for c in range(5):\n",
    "        if c==0  or c==4 or c==1 and r==1 or c==2 and r==2 or c==3 and r==1:\n",
    "            print(\"*\",end=' ')\n",
    "        else:\n",
    "            print(\" \",end=' ')\n",
    "    print(' ')"
   ]
  },
  {
   "cell_type": "code",
   "execution_count": 141,
   "id": "1528c478",
   "metadata": {},
   "outputs": [
    {
     "name": "stdout",
     "output_type": "stream",
     "text": [
      "*       *  \n",
      "* *     *  \n",
      "*   *   *  \n",
      "*     * *  \n",
      "*       *  \n"
     ]
    }
   ],
   "source": [
    "for r in range(5):\n",
    "    for c in range(5):\n",
    "        if c==0  or c==4 or r==c:\n",
    "            print(\"*\",end=' ')\n",
    "        else:\n",
    "            print(\" \",end=' ')\n",
    "    print(' ')"
   ]
  },
  {
   "cell_type": "code",
   "execution_count": 142,
   "id": "8bed161a",
   "metadata": {},
   "outputs": [
    {
     "name": "stdout",
     "output_type": "stream",
     "text": [
      "  * * *    \n",
      "*       *  \n",
      "*       *  \n",
      "*       *  \n",
      "  * * *    \n"
     ]
    }
   ],
   "source": [
    "for r in range(5):\n",
    "    for c in range(5):\n",
    "        if c==0 and r!=0  and r!=4 or c==4 and r!=4 and r!=0 or r==0  and c!=0 and c!=4 or r==4 and c!=4 and c!=0:\n",
    "            print(\"*\",end=' ')\n",
    "        else:\n",
    "            print(\" \",end=' ')\n",
    "    print(' ')"
   ]
  },
  {
   "cell_type": "code",
   "execution_count": 143,
   "id": "fa63a380",
   "metadata": {},
   "outputs": [
    {
     "name": "stdout",
     "output_type": "stream",
     "text": [
      "* * * *    \n",
      "*     *    \n",
      "* * * *    \n",
      "*          \n",
      "*          \n"
     ]
    }
   ],
   "source": [
    "for r in range(5):\n",
    "    for c in range(5):\n",
    "        if c==0 or r==0 and c!=4 or r==2 and c!=4 or c==3 and r!=3 and r!=4:\n",
    "            print(\"*\",end=' ')\n",
    "        else:\n",
    "            print(\" \",end=' ')\n",
    "    print(' ')"
   ]
  },
  {
   "cell_type": "code",
   "execution_count": 144,
   "id": "9e9bc18b",
   "metadata": {},
   "outputs": [
    {
     "name": "stdout",
     "output_type": "stream",
     "text": [
      "  * *      \n",
      "*     *    \n",
      "*   * *    \n",
      "  * *      \n",
      "        *  \n"
     ]
    }
   ],
   "source": [
    "for r in range(5):# Qletetr\n",
    "    for c in range(5):\n",
    "        if  c==0 and r==1 or c==0 and r==2 or c==1 and r==0 or c==2 and r==0 or c==3 and r==1 or c==3 and r==2 or c==1 and r==3 or c==2 and r==3 or c==2 and r==2  or c==4 and r==4 :\n",
    "            print(\"*\",end=' ')\n",
    "        else:\n",
    "            print(\" \",end=' ')\n",
    "    print(' ')"
   ]
  },
  {
   "cell_type": "code",
   "execution_count": 145,
   "id": "35e39849",
   "metadata": {},
   "outputs": [
    {
     "name": "stdout",
     "output_type": "stream",
     "text": [
      "* * * *    \n",
      "*     *    \n",
      "* * * *    \n",
      "*   *      \n",
      "*     *    \n"
     ]
    }
   ],
   "source": [
    "for r in range(5):\n",
    "    for c in range(5):\n",
    "        if c==0 or r==0 and c!=4 or r==2 and c!=4 or c==3 and r!=3 and r!=4 or r-1==c:\n",
    "            print(\"*\",end=' ')\n",
    "        else:\n",
    "            print(\" \",end=' ')\n",
    "    print(' ')"
   ]
  },
  {
   "cell_type": "code",
   "execution_count": 146,
   "id": "fff6efac",
   "metadata": {},
   "outputs": [
    {
     "name": "stdout",
     "output_type": "stream",
     "text": [
      "* * * * * \n",
      "*         \n",
      "* * * * * \n",
      "        * \n",
      "* * * * * \n"
     ]
    }
   ],
   "source": [
    "for r in range (5):\n",
    "    for c in range(5):\n",
    "        if r==0  or r==2 or r==4 or c==0 and r==1 or c==4 and r==3:\n",
    "            print(\"*\",end=' ')\n",
    "        else:\n",
    "            print(\" \",end=' ')\n",
    "    print('')"
   ]
  },
  {
   "cell_type": "code",
   "execution_count": 147,
   "id": "14b1964b",
   "metadata": {},
   "outputs": [
    {
     "name": "stdout",
     "output_type": "stream",
     "text": [
      "* * * * * \n",
      "    *     \n",
      "    *     \n",
      "    *     \n",
      "    *     \n"
     ]
    }
   ],
   "source": [
    "for r in range (5):\n",
    "    for c in range(5):\n",
    "        if r==0 or c==2:\n",
    "            print(\"*\",end=' ')\n",
    "        else:\n",
    "            print(\" \",end=' ')\n",
    "    print('')"
   ]
  },
  {
   "cell_type": "code",
   "execution_count": 148,
   "id": "3c2b7ee7",
   "metadata": {},
   "outputs": [
    {
     "name": "stdout",
     "output_type": "stream",
     "text": [
      "*       * \n",
      "*       * \n",
      "*       * \n",
      "*       * \n",
      "* * * * * \n"
     ]
    }
   ],
   "source": [
    "for r in range (5):\n",
    "    for c in range(5):\n",
    "        if c==0 or c==4 or r==4 :\n",
    "            print(\"*\",end=' ')\n",
    "        else:\n",
    "            print(\" \",end=' ')\n",
    "    print('')"
   ]
  },
  {
   "cell_type": "code",
   "execution_count": 149,
   "id": "90b1f982",
   "metadata": {},
   "outputs": [
    {
     "name": "stdout",
     "output_type": "stream",
     "text": [
      "*       * \n",
      "          \n",
      "  *   *   \n",
      "          \n",
      "    *     \n"
     ]
    }
   ],
   "source": [
    "for r in range (5):# v letter\n",
    "    for c in range(5):\n",
    "        if c==0 and r==0 or c==1 and r==2 or c==2 and r==4 or c==3 and r==2 or c==4 and r==0:\n",
    "            print(\"*\",end=' ')\n",
    "        else:\n",
    "            print(\" \",end=' ')\n",
    "    print('')"
   ]
  },
  {
   "cell_type": "code",
   "execution_count": 150,
   "id": "56d7e790",
   "metadata": {},
   "outputs": [
    {
     "name": "stdout",
     "output_type": "stream",
     "text": [
      "*       * \n",
      "*       * \n",
      "*   *   * \n",
      "* *   * * \n",
      "*       * \n"
     ]
    }
   ],
   "source": [
    "for r in range (5):# w letter\n",
    "    for c in range(5):\n",
    "        if c==0 or c==4 or c==3 and r==3 or c==2 and r==2 or c==1 and r==3:\n",
    "            print(\"*\",end=' ')\n",
    "        else:\n",
    "            print(\" \",end=' ')\n",
    "    print('')"
   ]
  },
  {
   "cell_type": "code",
   "execution_count": 151,
   "id": "0a234960",
   "metadata": {},
   "outputs": [
    {
     "name": "stdout",
     "output_type": "stream",
     "text": [
      "*       * \n",
      "  *   *   \n",
      "    *     \n",
      "  *   *   \n",
      "*       * \n"
     ]
    }
   ],
   "source": [
    "for r in range (5):\n",
    "    for c in range(5):\n",
    "        if r==c or c==4 and r==0 or c==3 and r==1 or c==1 and r==3 or c==0 and r==4:\n",
    "            print(\"*\",end=' ')\n",
    "        else:\n",
    "            print(\" \",end=' ')\n",
    "    print('')"
   ]
  },
  {
   "cell_type": "code",
   "execution_count": 152,
   "id": "f401bd50",
   "metadata": {},
   "outputs": [
    {
     "name": "stdout",
     "output_type": "stream",
     "text": [
      "*       * \n",
      "  *   *   \n",
      "    *     \n",
      "    *     \n",
      "    *     \n"
     ]
    }
   ],
   "source": [
    "for r in range (5):\n",
    "    for c in range(5):\n",
    "        if c==2  and r!=0 and r!=1 or r==c and c!=3 and c!=4 or c==3  and r!=0 and r!=3 and r!=4  and r!=2 or c==4 and r!=1 and r!=2 and r!=3 and r!=4 :\n",
    "            print(\"*\",end=' ')\n",
    "        else:\n",
    "            print(\" \",end=' ')\n",
    "    print('')\n",
    "    \n"
   ]
  },
  {
   "cell_type": "code",
   "execution_count": 153,
   "id": "5c7e2f3a",
   "metadata": {},
   "outputs": [
    {
     "name": "stdout",
     "output_type": "stream",
     "text": [
      "* * * * * \n",
      "      *   \n",
      "    *     \n",
      "  *       \n",
      "* * * * * \n"
     ]
    }
   ],
   "source": [
    "for r in range (5):\n",
    "    for c in range(5):\n",
    "        if r==0 or r==4   or c==3 and r==1 or c==2 and r==2  or c==3 and r==1  or r==3 and c==1 :\n",
    "            print(\"*\",end=' ')\n",
    "        else:\n",
    "            print(\" \",end=' ')\n",
    "    print('')"
   ]
  },
  {
   "cell_type": "code",
   "execution_count": null,
   "id": "d007a9fe",
   "metadata": {},
   "outputs": [],
   "source": []
  }
 ],
 "metadata": {
  "kernelspec": {
   "display_name": "Python 3 (ipykernel)",
   "language": "python",
   "name": "python3"
  },
  "language_info": {
   "codemirror_mode": {
    "name": "ipython",
    "version": 3
   },
   "file_extension": ".py",
   "mimetype": "text/x-python",
   "name": "python",
   "nbconvert_exporter": "python",
   "pygments_lexer": "ipython3",
   "version": "3.9.12"
  }
 },
 "nbformat": 4,
 "nbformat_minor": 5
}
